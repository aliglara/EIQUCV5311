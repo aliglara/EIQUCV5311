{
 "cells": [
  {
   "cell_type": "markdown",
   "metadata": {
    "slideshow": {
     "slide_type": "slide"
    }
   },
   "source": [
    "# Enunciado\n",
    "\n",
    "Se comprime CO<sub>2</sub> isotérmicamente a 50 <sup>o</sup>C hasta una centésima parte de su volumen inicial, sabiendo que su presión inicial es 1 bar.\n",
    "\n",
    "- Determine el trabajo por mol requerido usando la suposición de gas ideal y la ecuación de Peng-Robinson\n",
    "- Compare la variación de la presión con el volumen mediante la compresión siguiendo una trayectoria $PV = ctte$"
   ]
  },
  {
   "cell_type": "code",
   "execution_count": 1,
   "metadata": {
    "slideshow": {
     "slide_type": "slide"
    }
   },
   "outputs": [],
   "source": [
    "import numpy as np\n",
    "import matplotlib.pyplot as plt\n",
    "from scipy.integrate import odeint\n",
    "import pandas as pd\n",
    "import seaborn as sns\n",
    "\n",
    "plt.rcParams.update({'font.size': 18})"
   ]
  },
  {
   "cell_type": "code",
   "execution_count": null,
   "metadata": {
    "slideshow": {
     "slide_type": "skip"
    }
   },
   "outputs": [],
   "source": [
    "sns.set_style(\"darkgrid\")"
   ]
  },
  {
   "cell_type": "markdown",
   "metadata": {
    "slideshow": {
     "slide_type": "slide"
    }
   },
   "source": [
    "El problema se reduce a resolver \n",
    "\n",
    "$$ dW = - P dV $$\n",
    "\n",
    "## Primera parte\n",
    "### Modelo de gas ideal\n",
    "\n",
    "En esta parte solo queda evaluar el trabajo, considerando que la presion del gas será descrita de acuerdo a la ecuación de gas ideal\n",
    "\n",
    "$$ P = \\frac{RT}{V} $$\n",
    "\n",
    "Por lo tanto\n",
    "\n",
    "$$ dW = - \\frac{RT}{V} dV \\Rightarrow W = - RT \\ln \\left(\\frac{V_2}{V_1} \\right) $$\n"
   ]
  },
  {
   "cell_type": "code",
   "execution_count": 2,
   "metadata": {
    "slideshow": {
     "slide_type": "subslide"
    }
   },
   "outputs": [],
   "source": [
    "R = 8.314e-5        # m3 bar / K / mol\n",
    "T = 50 + 273.15     # Kelvin\n",
    "P1 = 1              # bar\n",
    "V1 = R * T / P1     # m3/mol\n",
    "V2 = V1 / 100       # m3/mol\n",
    "\n",
    "# Calculo del trabajo ideal\n",
    "Wgi = - R * T * np.log(V2/V1)    # unidades de m3 bar / mol"
   ]
  },
  {
   "cell_type": "code",
   "execution_count": 5,
   "metadata": {
    "slideshow": {
     "slide_type": "subslide"
    }
   },
   "outputs": [
    {
     "name": "stdout",
     "output_type": "stream",
     "text": [
      "El volumen inicial del gas es 26.9 L\n",
      "El volumen final del gas es 0.269 L\n",
      "El trabajo de compresion si se comporta como gas ideal es 12372.6 J/mol\n"
     ]
    }
   ],
   "source": [
    "print('El volumen inicial del gas es {:.1f} L'.format(V1*1000))\n",
    "print('El volumen final del gas es {:.3f} L'.format(V2*1000))\n",
    "print('El trabajo de compresion si se comporta como gas ideal es {:.1f} J/mol'.\n",
    "      format(Wgi * 1e5))"
   ]
  },
  {
   "cell_type": "markdown",
   "metadata": {
    "slideshow": {
     "slide_type": "slide"
    }
   },
   "source": [
    "### Empleando Peng-Robinson\n",
    "\n",
    "$$ \\Large P = \\frac{RT}{v-b} - \\frac{a}{v\\left(v+b\\right)+b\\left(v-b\\right)} $$\n",
    "\n",
    "donde\n",
    "\n",
    "$ a = 0.45724\\left(\\frac{R^2T_c^2}{P_c} \\right)\\:\\alpha $\n",
    "\n",
    "$ b = 0.07780\\left(\\frac{R\\,T_c}{P_c}\\right) $\n",
    "\n",
    "$ \\alpha = \\left[1 + \\left(0.3764 + 1.5422\\omega - 0.26992\\omega^2\\right)\\left(1-\\sqrt{T_r}\\right)\\right]^2 $\n",
    "\n",
    "Vamos a resolverlo numericamente, con lo que se debe hacer es resolver una ecuacion diferencial ordinaria\n",
    "\n",
    "$$ \\frac{dW}{dV} = - P $$"
   ]
  },
  {
   "cell_type": "markdown",
   "metadata": {
    "slideshow": {
     "slide_type": "subslide"
    }
   },
   "source": [
    "Sujeta a la condicion inicial que para V = V1, entonces W = 0\n",
    "\n",
    "Ahora lo que sucede es que los metodos numericos, suponen que la integración se realiza sobre una variable independiente que incrementa y no es el caso.\n",
    "\n",
    "Por esto se crea una variable dummy $Y$ de forma tal que su aumento conlleve a una disminución del volumen del componente.\n",
    "\n",
    "$$ V = V_1 - Y $$\n",
    "\n",
    "Ahora bien\n",
    "\n",
    "$$dV = - dY \\Rightarrow \\frac{dW}{dY} = P$$\n",
    "\n",
    "Y la condicion inicial seria, $Y(0) = 0, W(0) = 0$. Asimismo, el valor final del volumen es $V_1/100$ pero expresado en la variable $Y$ seria $Y(t) = V_1 - V_2$ "
   ]
  },
  {
   "cell_type": "code",
   "execution_count": null,
   "metadata": {
    "slideshow": {
     "slide_type": "subslide"
    }
   },
   "outputs": [],
   "source": [
    "def sistema(w, y, p):\n",
    "    \"\"\"\n",
    "    Resuelve el trabajo de compresion isotermica que sufre un gas segun la ecuacion\n",
    "    de Peng-Robinson\n",
    "    input: W corresponde al trabajo resultando de la integracion\n",
    "           Y variable dummy que representa la disminución del volumen\n",
    "           p parametros adicionales\n",
    "    output: dWdy integracion de la edo\n",
    "    \"\"\"\n",
    "    t, tc, pc, omega, v1 = p\n",
    "    tr = t / tc\n",
    "    \n",
    "    v = v1 - y # dummy\n",
    "    \n",
    "    # Peng - Robinson\n",
    "    alpha = ((1 + (0.3764 + 1.5422 * omega - 0.26992 * omega**2) \n",
    "              * (1 - np.sqrt(tr)))**2)\n",
    "    a = 0.45724 * (R**2 * tc**2) / pc * alpha\n",
    "    b = 0.07780 * (R * tc) / pc\n",
    "    dwdy = (R * t) / (v - b) - a / (v * (v + b) + b * (v - b))\n",
    "    \n",
    "    return dwdy"
   ]
  },
  {
   "cell_type": "code",
   "execution_count": null,
   "metadata": {
    "slideshow": {
     "slide_type": "subslide"
    }
   },
   "outputs": [],
   "source": [
    "Tc = 304.2\n",
    "Pc = 73.8\n",
    "omega = 0.239\n",
    "npuntos = 100\n",
    "\n",
    "Yspan = np.linspace(0, V1 - V2, npuntos)\n",
    "W0 = 0\n",
    "\n",
    "parametros = (T, Tc, Pc, omega, V1)\n",
    "W = odeint(sistema, W0, Yspan, args=(parametros,))"
   ]
  },
  {
   "cell_type": "code",
   "execution_count": null,
   "metadata": {
    "slideshow": {
     "slide_type": "subslide"
    }
   },
   "outputs": [],
   "source": [
    "print(('El trabajo de compresion si se comporta como gas ' \n",
    "       'real es {:.1f} J/mol'.format(W[-1][0] * 1e5)))"
   ]
  },
  {
   "cell_type": "markdown",
   "metadata": {
    "slideshow": {
     "slide_type": "slide"
    }
   },
   "source": [
    "## Segunda parte. \n",
    "\n",
    "En esta parte lo que se quiere es que compare el comportamiento de gas ideal y gas real siguiente un recorrido $PV = \\text{ctte}$.\n",
    "\n",
    "Esta se puede linealizar\n",
    "\n",
    "$$ \\ln(P) = \\ln(\\text{ctte}) - \\ln(V) $$\n",
    "\n",
    "es decir que el comportamiento debería ser una linea recta de pendiente -1. Asi que se calcula los valores de presion en funcion de V para cada caso"
   ]
  },
  {
   "cell_type": "code",
   "execution_count": null,
   "metadata": {
    "slideshow": {
     "slide_type": "subslide"
    }
   },
   "outputs": [],
   "source": [
    "# Span de datos de volumenes desde V1 hasta V2\n",
    "Volumen = np.linspace(V1, V2, npuntos).reshape(npuntos, 1)\n",
    "\n",
    "# Calculo de la presion y trabajo como gas ideal\n",
    "Pideal = R * T / Volumen\n",
    "Wid = - R * T * np.log( Volumen / V1)\n",
    "\n",
    "# Calculo de la presion como gas real\n",
    "Tr = T / Tc\n",
    "alpha = ((1 + (0.3764 + 1.5422 * omega - 0.26992 * omega**2) * \n",
    "          (1 - np.sqrt(Tr)))**2)\n",
    "a = 0.45724 * (R**2 * Tc**2) / Pc * alpha\n",
    "b = 0.07780 * (R * Tc) / Pc\n",
    "presion_PR = ((R * T) / (Volumen - b) - \n",
    "              a / (Volumen * (Volumen + b) + b * (Volumen - b)))"
   ]
  },
  {
   "cell_type": "markdown",
   "metadata": {
    "slideshow": {
     "slide_type": "subslide"
    }
   },
   "source": [
    "Los valores se colocan de forma tabular solo para presentarlos resultados"
   ]
  },
  {
   "cell_type": "code",
   "execution_count": null,
   "metadata": {
    "slideshow": {
     "slide_type": "skip"
    }
   },
   "outputs": [],
   "source": [
    "nombres = ['Volumen (L)', 'P (bar)', 'Pideal (bar)', \n",
    "           'W (J/mol)', 'Wideal (J/mol)']\n",
    "data = np.concatenate((Volumen*1000, presion_PR, Pideal, \n",
    "                       W*1e5, Wid*1e5), axis=1)\n",
    "df = pd.DataFrame(data=data, columns=nombres)"
   ]
  },
  {
   "cell_type": "code",
   "execution_count": null,
   "metadata": {
    "slideshow": {
     "slide_type": "subslide"
    }
   },
   "outputs": [],
   "source": [
    "df.head()"
   ]
  },
  {
   "cell_type": "markdown",
   "metadata": {
    "slideshow": {
     "slide_type": "subslide"
    }
   },
   "source": [
    "Se calculan los valores de interés en la tabla"
   ]
  },
  {
   "cell_type": "code",
   "execution_count": null,
   "metadata": {
    "slideshow": {
     "slide_type": "subslide"
    }
   },
   "outputs": [],
   "source": [
    "df['lnV'] = np.log(df['Volumen (L)'])\n",
    "df['lnP'] = np.log(df['P (bar)'])\n",
    "df['lnPid'] = np.log(df['Pideal (bar)'])\n",
    "\n",
    "df[['lnV', 'lnP', 'lnPid']].head()"
   ]
  },
  {
   "cell_type": "code",
   "execution_count": null,
   "metadata": {
    "slideshow": {
     "slide_type": "subslide"
    }
   },
   "outputs": [],
   "source": [
    "# de forma grafica\n",
    "plt.figure(figsize=(9,8))\n",
    "plt.plot(df['lnV'], df['lnP'], 'o', label='Peng-Robinson', lw=2, ls='-.')\n",
    "plt.plot(df['lnV'], df['lnPid'], label='Ideal', lw=3)\n",
    "plt.xlabel('ln(V)')\n",
    "plt.ylabel('ln(P)')\n",
    "plt.legend(loc='best')\n",
    "plt.show()"
   ]
  }
 ],
 "metadata": {
  "celltoolbar": "Slideshow",
  "kernelspec": {
   "display_name": "Python 3",
   "language": "python",
   "name": "python3"
  },
  "language_info": {
   "codemirror_mode": {
    "name": "ipython",
    "version": 3
   },
   "file_extension": ".py",
   "mimetype": "text/x-python",
   "name": "python",
   "nbconvert_exporter": "python",
   "pygments_lexer": "ipython3",
   "version": "3.7.7"
  }
 },
 "nbformat": 4,
 "nbformat_minor": 2
}
