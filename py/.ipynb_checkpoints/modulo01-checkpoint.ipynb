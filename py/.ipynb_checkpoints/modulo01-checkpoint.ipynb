{
 "cells": [
  {
   "cell_type": "markdown",
   "metadata": {
    "collapsed": true
   },
   "source": [
    "# Módulo 1. Evaluación de propiedades de componentes puros\n",
    "\n",
    "Al inicio del curso es recomendable realizar un breve repaso a los conceptos del área de termodinámica que se usan y profundizan en el curso.\n",
    "\n",
    "De esta manera, me suelo tomar un par de sesiones para revisar conceptos relacionados con la primera ley de termodinámica.\n",
    "\n",
    "En este módulo se presentan diversas metodologías para evaluar propiedades termodinámicas de componentes gaseosos y líquidos puros aplicados a procesos industriales básicos.\n",
    "\n",
    "## Lectures\n",
    "\n",
    "Cada una de las clases tiene su respectiva presentacion, las cuales ire complementando con videos explicatorios y problemas tipos\n",
    "\n",
    "\n",
    "Clase| Contenido | Slides \n",
    "-----|-----------|--------\n",
    "1    | Repaso de primera ley de termodinámica| [[slides]](https://goo.gl/QvMnH9)\n",
    "2    | Repaso de segunda ley de termodinámica| [[slides]](https://goo.gl/6eW9M2)\n",
    "3    | Primera y segunda ley de la termodinámica combinada| [[slides]](https://goo.gl/585Mhb)\n",
    "4    | Propiedades para gases ideales| [[slides]](https://goo.gl/YpQLkJ)\n",
    "5    | Evaluación de propiedades termodinámicas para gases reales| [[slides]](https://goo.gl/cxuR61)\n",
    "6    | Propiedades residuales| [[slides]](https://goo.gl/aKRLJS)\n",
    "7    | Cálculo de fugacidad y coeficiente de fugacidad| [[slides]](https://goo.gl/Hpojgg)"
   ]
  },
  {
   "cell_type": "code",
   "execution_count": null,
   "metadata": {},
   "outputs": [],
   "source": []
  }
 ],
 "metadata": {
  "kernelspec": {
   "display_name": "Python 3",
   "language": "python",
   "name": "python3"
  },
  "language_info": {
   "codemirror_mode": {
    "name": "ipython",
    "version": 3
   },
   "file_extension": ".py",
   "mimetype": "text/x-python",
   "name": "python",
   "nbconvert_exporter": "python",
   "pygments_lexer": "ipython3",
   "version": "3.7.7"
  }
 },
 "nbformat": 4,
 "nbformat_minor": 1
}
