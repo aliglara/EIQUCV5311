{
 "cells": [
  {
   "cell_type": "markdown",
   "metadata": {},
   "source": [
    "# Solución\n",
    "\n",
    "Ahora bien, se conoce que el logaritmo natural de la presión de saturación de un componente puro varía con el inverso de la temperatura absoluta.\n",
    "\n",
    "\\begin{equation}\n",
    "\\ln P^\\text{sat} = A - \\frac{B}{T+C}\n",
    "\\end{equation}\n",
    "\n",
    "Si se linealiza esta expresión:\n",
    "\n",
    "\\begin{equation}\n",
    "\\ln P = A + \\left(AC - B - C \\:\\ln P\\right)\\frac{1}{T}\n",
    "\\end{equation}"
   ]
  },
  {
   "cell_type": "code",
   "execution_count": 1,
   "metadata": {},
   "outputs": [],
   "source": [
    "import numpy as np\n",
    "import pandas as pd\n",
    "import matplotlib.pyplot as plt\n",
    "from scipy.optimize import least_squares\n",
    "from matplotlib import rcParams\n",
    "import seaborn as sns"
   ]
  },
  {
   "cell_type": "code",
   "execution_count": 2,
   "metadata": {},
   "outputs": [],
   "source": [
    "params = {'figure.figsize': (7, 7),\n",
    "          'axes.labelsize': 'x-large', \n",
    "          'ytick.labelsize': 'large', \n",
    "          'xtick.labelsize': 'large'}\n",
    "rcParams.update(params) \n",
    "sns.set_style('whitegrid')"
   ]
  },
  {
   "cell_type": "markdown",
   "metadata": {},
   "source": [
    "Los datos experimentales se tiene disponible en una hoja de Excel."
   ]
  },
  {
   "cell_type": "code",
   "execution_count": 3,
   "metadata": {},
   "outputs": [],
   "source": [
    "Data_experimental = pd.read_excel('T01_agl_coef_antoine.xlsx', header=None, names=['T (K)', 'Psat (bar)'])"
   ]
  },
  {
   "cell_type": "code",
   "execution_count": 4,
   "metadata": {},
   "outputs": [
    {
     "data": {
      "text/html": [
       "<div>\n",
       "<style scoped>\n",
       "    .dataframe tbody tr th:only-of-type {\n",
       "        vertical-align: middle;\n",
       "    }\n",
       "\n",
       "    .dataframe tbody tr th {\n",
       "        vertical-align: top;\n",
       "    }\n",
       "\n",
       "    .dataframe thead th {\n",
       "        text-align: right;\n",
       "    }\n",
       "</style>\n",
       "<table border=\"1\" class=\"dataframe\">\n",
       "  <thead>\n",
       "    <tr style=\"text-align: right;\">\n",
       "      <th></th>\n",
       "      <th>T (K)</th>\n",
       "      <th>Psat (bar)</th>\n",
       "    </tr>\n",
       "  </thead>\n",
       "  <tbody>\n",
       "    <tr>\n",
       "      <th>0</th>\n",
       "      <td>380</td>\n",
       "      <td>0.080807</td>\n",
       "    </tr>\n",
       "    <tr>\n",
       "      <th>1</th>\n",
       "      <td>395</td>\n",
       "      <td>0.161253</td>\n",
       "    </tr>\n",
       "    <tr>\n",
       "      <th>2</th>\n",
       "      <td>410</td>\n",
       "      <td>0.385130</td>\n",
       "    </tr>\n",
       "    <tr>\n",
       "      <th>3</th>\n",
       "      <td>425</td>\n",
       "      <td>0.568025</td>\n",
       "    </tr>\n",
       "    <tr>\n",
       "      <th>4</th>\n",
       "      <td>440</td>\n",
       "      <td>0.878039</td>\n",
       "    </tr>\n",
       "  </tbody>\n",
       "</table>\n",
       "</div>"
      ],
      "text/plain": [
       "   T (K)  Psat (bar)\n",
       "0    380    0.080807\n",
       "1    395    0.161253\n",
       "2    410    0.385130\n",
       "3    425    0.568025\n",
       "4    440    0.878039"
      ]
     },
     "execution_count": 4,
     "metadata": {},
     "output_type": "execute_result"
    }
   ],
   "source": [
    "Data_experimental"
   ]
  },
  {
   "cell_type": "code",
   "execution_count": 5,
   "metadata": {},
   "outputs": [],
   "source": [
    "Data = Data_experimental.values\n",
    "T = Data[:,0] \n",
    "P =  Data[:,1]\n",
    "x = 1/T\n",
    "y = np.log(P)"
   ]
  },
  {
   "cell_type": "markdown",
   "metadata": {
    "pycharm": {
     "name": "#%% md\n"
    }
   },
   "source": [
    "## Regresion de los datos experimentales\n",
    "\n",
    "Primero se debe definir de la funcion a minimizar\n",
    "\n",
    "\\begin{equation}\n",
    "\\ln P - \\left(A + \\left(AC - B\\right)\\frac{1}{T} -  C \\:\\frac{\\ln P}{T}\\right)\n",
    "\\end{equation}"
   ]
  },
  {
   "cell_type": "code",
   "execution_count": 6,
   "metadata": {},
   "outputs": [],
   "source": [
    "def f(coeficientes, t, psat):\n",
    "    a, b, c = coeficientes\n",
    "    return np.log(psat) - (a + (a*c - b) / t -  c * np.log(psat)/t)"
   ]
  },
  {
   "cell_type": "code",
   "execution_count": 9,
   "metadata": {},
   "outputs": [],
   "source": [
    "x0 = (1000, 100, 20)\n",
    "result = least_squares(f, x0, args=(T, P))"
   ]
  },
  {
   "cell_type": "code",
   "execution_count": 10,
   "metadata": {},
   "outputs": [
    {
     "data": {
      "text/plain": [
       " active_mask: array([0., 0., 0.])\n",
       "        cost: 0.0008733098000740825\n",
       "         fun: array([ 0.01943823, -0.03203671,  0.01256001, -0.00958986,  0.00962833])\n",
       "        grad: array([ 1.07107598e-09,  8.31416231e-12, -2.84209667e-11])\n",
       "         jac: array([[-0.17173638,  0.00263158, -0.01324442],\n",
       "       [-0.20318944,  0.00253165, -0.01099234],\n",
       "       [-0.23234104,  0.00243902, -0.00846675],\n",
       "       [-0.25943489,  0.00235294, -0.00725361],\n",
       "       [-0.28468141,  0.00227273, -0.00601649]])\n",
       "     message: '`gtol` termination condition is satisfied.'\n",
       "        nfev: 5\n",
       "        njev: 5\n",
       "  optimality: 1.071075983113956e-09\n",
       "      status: 1\n",
       "     success: True\n",
       "           x: array([   2.51719345,  335.83146451, -314.74017301])"
      ]
     },
     "execution_count": 10,
     "metadata": {},
     "output_type": "execute_result"
    }
   ],
   "source": [
    "result"
   ]
  },
  {
   "cell_type": "code",
   "execution_count": 11,
   "metadata": {},
   "outputs": [],
   "source": [
    "A, B, C = result.x"
   ]
  },
  {
   "cell_type": "code",
   "execution_count": 12,
   "metadata": {
    "pycharm": {
     "name": "#%%\n"
    }
   },
   "outputs": [
    {
     "name": "stdout",
     "output_type": "stream",
     "text": [
      "Los coeficientes de Antoine son:\n",
      "A = 2.52, B = 335.83, C = -314.74\n"
     ]
    }
   ],
   "source": [
    "print('Los coeficientes de Antoine son:')\n",
    "print('A = {:.2f}, B = {:.2f}, C = {:.2f}'.format(\n",
    "    A, B, C))"
   ]
  },
  {
   "cell_type": "markdown",
   "metadata": {
    "pycharm": {
     "name": "#%% md\n"
    }
   },
   "source": [
    "## Grafico de comparacion"
   ]
  },
  {
   "cell_type": "code",
   "execution_count": null,
   "metadata": {},
   "outputs": [],
   "source": [
    "T_calc = np.linspace(380, 440)\n",
    "Psat = np.exp(A - B / (T_calc + C))\n",
    "\n",
    "fig, ax = plt.subplots()\n",
    "ax.plot(T, P, 'o', label='exp')\n",
    "ax.plot(T_calc, Psat, '-', label='ajuste')\n",
    "ax.set_xlabel(r'T')\n",
    "ax.set_ylabel(r'$P^{sat}$')\n",
    "ax.legend()\n",
    "            \n",
    "plt.show()"
   ]
  }
 ],
 "metadata": {
  "kernelspec": {
   "display_name": "Python 3",
   "language": "python",
   "name": "python3"
  },
  "language_info": {
   "codemirror_mode": {
    "name": "ipython",
    "version": 3
   },
   "file_extension": ".py",
   "mimetype": "text/x-python",
   "name": "python",
   "nbconvert_exporter": "python",
   "pygments_lexer": "ipython3",
   "version": "3.7.7"
  }
 },
 "nbformat": 4,
 "nbformat_minor": 2
}
