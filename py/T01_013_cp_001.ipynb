{
 "cells": [
  {
   "cell_type": "code",
   "execution_count": 1,
   "metadata": {},
   "outputs": [],
   "source": [
    "import numpy as np\n",
    "import matplotlib.pyplot as plt\n",
    "from scipy.integrate import odeint\n",
    "import pandas as pd\n",
    "import seaborn as sns\n",
    "\n",
    "plt.rcParams.update({'font.size': 18})"
   ]
  },
  {
   "cell_type": "code",
   "execution_count": 2,
   "metadata": {},
   "outputs": [],
   "source": [
    "sns.set_style(\"darkgrid\")"
   ]
  },
  {
   "cell_type": "markdown",
   "metadata": {},
   "source": [
    "# Enunciado\n",
    "\n",
    "Se comprime CO<sub>2</sub> isotérmicamente a 50 <sup>o</sup>C hasta una centésima parte de su volumen inicial, sabiendo que su presión inicial es 1 bar.\n",
    "\n",
    "- Determine el trabajo por mol requerido usando la suposición de gas ideal y la ecuación de Peng-Robinson\n",
    "- Compare la variación de la presión con el volumen mediante la compresión siguiendo una trayectoria PV = ctte\n",
    "\n",
    "La ecuación de Peng-Robinson\n",
    "\n",
    "$$ \\Large P = \\frac{RT}{v-b} - \\frac{a}{v\\left(v+b\\right)+b\\left(v-b\\right)} $$\n",
    "\n",
    "donde\n",
    "\n",
    "$ a = 0.45724\\left(\\frac{R^2T_c^2}{P_c} \\right)\\:\\alpha $\n",
    "\n",
    "$ b = 0.07780\\left(\\frac{R\\,T_c}{P_c}\\right) $\n",
    "\n",
    "$ \\alpha = \\left[1 + \\left(0.3764 + 1.5422\\omega - 0.26992\\omega^2\\right)\\left(1-\\sqrt{T_r}\\right)\\right]^2 $\n"
   ]
  },
  {
   "cell_type": "markdown",
   "metadata": {},
   "source": [
    "El problema se reduce a resolver \n",
    "\n",
    "$$ dW = - P dV $$\n",
    "\n",
    "## Primera parte\n",
    "### Modelo de gas ideal\n",
    "\n",
    "En esta parte solo queda evaluar el trabajo, considerando que la presion del gas será descrita de acuerdo a la ecuación de gas ideal\n",
    "\n",
    "$$ P = \\frac{RT}{V} $$\n",
    "\n",
    "Por lo tanto\n",
    "\n",
    "$$ dW = - \\frac{RT}{V} dV \\Rightarrow W = - RT \\ln \\left(\\frac{V_2}{V_1} \\right) $$\n"
   ]
  },
  {
   "cell_type": "code",
   "execution_count": 3,
   "metadata": {},
   "outputs": [],
   "source": [
    "R = 8.314e-5        # m3 bar / K / mol\n",
    "T = 50 + 273.15     # Kelvin\n",
    "P1 = 1              # bar\n",
    "V1 = R * T / P1     # m3/mol\n",
    "V2 = V1 / 100       # m3/mol\n",
    "\n",
    "# Calculo del trabajo ideal\n",
    "Wgi = - R * T * np.log(V2/V1)    # unidades de m3 bar / mol"
   ]
  },
  {
   "cell_type": "code",
   "execution_count": 4,
   "metadata": {},
   "outputs": [
    {
     "name": "stdout",
     "output_type": "stream",
     "text": [
      "El volumen inicial del gas es 26.867 L\n",
      "El volumen final del gas es 0.269 L\n",
      "El trabajo de compresion si se comporta como gas ideal es 12372.568 J/mol\n"
     ]
    }
   ],
   "source": [
    "print('El volumen inicial del gas es {:.3f} L'.format(V1*1000))\n",
    "print('El volumen final del gas es {:.3f} L'.format(V2*1000))\n",
    "print('El trabajo de compresion si se comporta como gas ideal es {:.3f} J/mol'.\n",
    "      format(Wgi * 1e5))"
   ]
  },
  {
   "cell_type": "markdown",
   "metadata": {},
   "source": [
    "### Empleando Peng-Robinson\n",
    "\n",
    "Vamos a resolverlo numericamente, con lo que se debe hacer es resolver una ecuacion diferencial ordinaria\n",
    "\n",
    "$$ \\frac{dW}{dV} = - P $$\n",
    "\n",
    "Sujeta a la condicion inicial que para V = V1, entonces W = 0\n",
    "\n",
    "Ahora lo que sucede es que los metodos numericos, suponen que la integración se realiza sobre una variable independiente que incrementa y no es el caso.\n",
    "\n",
    "Por esto se crea una variable dummy $Y$ de forma tal que su aumento conlleve a una disminución del volumen del componente.\n",
    "\n",
    "$$ V = V_1 - Y $$\n",
    "\n",
    "Ahora bien\n",
    "\n",
    "$$dV = - dY \\Rightarrow \\frac{dW}{dY} = P$$\n",
    "\n",
    "Y la condicion inicial seria, $Y(0) = 0, W(0) = 0$. Asimismo, el valor final del volumen es $V_1/100$ pero expresado en la variable $Y$ seria $Y(t) = V_1 - V_2$ "
   ]
  },
  {
   "cell_type": "code",
   "execution_count": 5,
   "metadata": {},
   "outputs": [],
   "source": [
    "def sistema(w, y, p):\n",
    "    \"\"\"\n",
    "    Resuelve el trabajo de compresion isotermica que sufre un gas segun la ecuacion\n",
    "    de Peng-Robinson\n",
    "    input: W corresponde al trabajo resultando de la integracion\n",
    "           Y variable dummy que representa la disminución del volumen\n",
    "           p parametros adicionales\n",
    "    output: dWdy integracion de la edo\n",
    "    \"\"\"\n",
    "    t, tc, pc, omega, v1 = p\n",
    "    tr = t / tc\n",
    "    \n",
    "    v = v1 - y # dummy\n",
    "    \n",
    "    # Peng - Robinson\n",
    "    alpha = (1 + (0.3764 + 1.5422 * omega - 0.26992 * omega**2) * (1 - np.sqrt(tr)))**2\n",
    "    a = 0.45724 * (R**2 * tc**2) / pc * alpha\n",
    "    b = 0.07780 * (R * tc) / pc\n",
    "    dwdy = (R * t) / (v - b) - a / (v * (v + b) + b * (v - b))\n",
    "    \n",
    "    return dwdy"
   ]
  },
  {
   "cell_type": "code",
   "execution_count": 6,
   "metadata": {},
   "outputs": [],
   "source": [
    "Tc = 304.2\n",
    "Pc = 73.8\n",
    "omega = 0.239\n",
    "npuntos = 100\n",
    "\n",
    "vspan = np.linspace(0, V1 - V2, npuntos)\n",
    "W0 = 0\n",
    "\n",
    "parametros = (T, Tc, Pc, omega, V1)\n",
    "W = odeint(sistema, W0, vspan, args=(parametros,))"
   ]
  },
  {
   "cell_type": "code",
   "execution_count": 28,
   "metadata": {},
   "outputs": [
    {
     "name": "stdout",
     "output_type": "stream",
     "text": [
      "El trabajo de compresion si se comporta como gas real es 11375.3 J/mol\n"
     ]
    }
   ],
   "source": [
    "print(('El trabajo de compresion si se comporta como gas ' \n",
    "       'real es {:.1f} J/mol'.format(W[-1][0] * 1e5)))"
   ]
  },
  {
   "cell_type": "markdown",
   "metadata": {},
   "source": [
    "## Segunda parte. \n",
    "\n",
    "En esta parte lo que se quiere es que compare el comportamiento de gas ideal y gas real siguiente un recorrido $PV = \\text{ctte}$.\n",
    "\n",
    "Esta se puede linealizar\n",
    "\n",
    "$$ \\ln(P) = \\ln(\\text{ctte}) - \\ln(V) $$\n",
    "\n",
    "es decir que el comportamiento debería ser una linea recta de pendiente -1. Asi que se calcula los valores de presion en funcion de V para cada caso"
   ]
  },
  {
   "cell_type": "code",
   "execution_count": 30,
   "metadata": {},
   "outputs": [],
   "source": [
    "# Span de datos de volumenes desde V1 hasta V2\n",
    "Volumen = np.linspace(V1, V2, npuntos).reshape(npuntos, 1)\n",
    "\n",
    "# Calculo de la presion y trabajo como gas ideal\n",
    "Pideal = R * T / Volumen\n",
    "Wid = - R * T * np.log( Volumen / V1)\n",
    "\n",
    "# Calculo de la presion como gas real\n",
    "Tr = T / Tc\n",
    "alpha = (1 + (0.3764 + 1.5422 * omega - 0.26992 * omega**2) * (1 - np.sqrt(Tr)))**2\n",
    "a = 0.45724 * (R**2 * Tc**2) / Pc * alpha\n",
    "b = 0.07780 * (R * Tc) / Pc\n",
    "presion_PR = (R * T) / (Volumen - b) - a / (Volumen * (Volumen + b) + b * (Volumen - b))"
   ]
  },
  {
   "cell_type": "markdown",
   "metadata": {},
   "source": [
    "Los valores se colocan de forma tabular solo para presentarlos resultados"
   ]
  },
  {
   "cell_type": "code",
   "execution_count": 31,
   "metadata": {},
   "outputs": [],
   "source": [
    "nombres = ['Volumen (L)', 'P (bar)', 'Pideal (bar)', \n",
    "           'W (J/mol)', 'Wideal (J/mol)']\n",
    "data = np.concatenate((Volumen*1000, presion_PR, Pideal, \n",
    "                       W*1e5, Wid*1e5), axis=1)\n",
    "df = pd.DataFrame(data=data, columns=nombres)"
   ]
  },
  {
   "cell_type": "code",
   "execution_count": 33,
   "metadata": {},
   "outputs": [
    {
     "data": {
      "text/html": [
       "<div>\n",
       "<style scoped>\n",
       "    .dataframe tbody tr th:only-of-type {\n",
       "        vertical-align: middle;\n",
       "    }\n",
       "\n",
       "    .dataframe tbody tr th {\n",
       "        vertical-align: top;\n",
       "    }\n",
       "\n",
       "    .dataframe thead th {\n",
       "        text-align: right;\n",
       "    }\n",
       "</style>\n",
       "<table border=\"1\" class=\"dataframe\">\n",
       "  <thead>\n",
       "    <tr style=\"text-align: right;\">\n",
       "      <th></th>\n",
       "      <th>Volumen (L)</th>\n",
       "      <th>P (bar)</th>\n",
       "      <th>Pideal (bar)</th>\n",
       "      <th>W (J/mol)</th>\n",
       "      <th>Wideal (J/mol)</th>\n",
       "    </tr>\n",
       "  </thead>\n",
       "  <tbody>\n",
       "    <tr>\n",
       "      <th>0</th>\n",
       "      <td>26.866691</td>\n",
       "      <td>0.995756</td>\n",
       "      <td>1.000000</td>\n",
       "      <td>0.000000</td>\n",
       "      <td>-0.000000</td>\n",
       "    </tr>\n",
       "    <tr>\n",
       "      <th>1</th>\n",
       "      <td>26.598024</td>\n",
       "      <td>1.005771</td>\n",
       "      <td>1.010101</td>\n",
       "      <td>26.887293</td>\n",
       "      <td>27.001927</td>\n",
       "    </tr>\n",
       "    <tr>\n",
       "      <th>2</th>\n",
       "      <td>26.329357</td>\n",
       "      <td>1.015990</td>\n",
       "      <td>1.020408</td>\n",
       "      <td>54.046384</td>\n",
       "      <td>54.277989</td>\n",
       "    </tr>\n",
       "    <tr>\n",
       "      <th>3</th>\n",
       "      <td>26.060690</td>\n",
       "      <td>1.026418</td>\n",
       "      <td>1.030928</td>\n",
       "      <td>81.482818</td>\n",
       "      <td>81.833812</td>\n",
       "    </tr>\n",
       "    <tr>\n",
       "      <th>4</th>\n",
       "      <td>25.792023</td>\n",
       "      <td>1.037063</td>\n",
       "      <td>1.041667</td>\n",
       "      <td>109.201484</td>\n",
       "      <td>109.675191</td>\n",
       "    </tr>\n",
       "  </tbody>\n",
       "</table>\n",
       "</div>"
      ],
      "text/plain": [
       "   Volumen (L)   P (bar)  Pideal (bar)   W (J/mol)  Wideal (J/mol)\n",
       "0    26.866691  0.995756      1.000000    0.000000       -0.000000\n",
       "1    26.598024  1.005771      1.010101   26.887293       27.001927\n",
       "2    26.329357  1.015990      1.020408   54.046384       54.277989\n",
       "3    26.060690  1.026418      1.030928   81.482818       81.833812\n",
       "4    25.792023  1.037063      1.041667  109.201484      109.675191"
      ]
     },
     "execution_count": 33,
     "metadata": {},
     "output_type": "execute_result"
    }
   ],
   "source": [
    "df.head()"
   ]
  },
  {
   "cell_type": "markdown",
   "metadata": {},
   "source": [
    "Se calculan los valores de interés en la tabla"
   ]
  },
  {
   "cell_type": "code",
   "execution_count": 35,
   "metadata": {},
   "outputs": [
    {
     "data": {
      "text/html": [
       "<div>\n",
       "<style scoped>\n",
       "    .dataframe tbody tr th:only-of-type {\n",
       "        vertical-align: middle;\n",
       "    }\n",
       "\n",
       "    .dataframe tbody tr th {\n",
       "        vertical-align: top;\n",
       "    }\n",
       "\n",
       "    .dataframe thead th {\n",
       "        text-align: right;\n",
       "    }\n",
       "</style>\n",
       "<table border=\"1\" class=\"dataframe\">\n",
       "  <thead>\n",
       "    <tr style=\"text-align: right;\">\n",
       "      <th></th>\n",
       "      <th>lnV</th>\n",
       "      <th>lnP</th>\n",
       "      <th>lnPid</th>\n",
       "    </tr>\n",
       "  </thead>\n",
       "  <tbody>\n",
       "    <tr>\n",
       "      <th>0</th>\n",
       "      <td>3.290887</td>\n",
       "      <td>-0.004253</td>\n",
       "      <td>0.000000</td>\n",
       "    </tr>\n",
       "    <tr>\n",
       "      <th>1</th>\n",
       "      <td>3.280837</td>\n",
       "      <td>0.005755</td>\n",
       "      <td>0.010050</td>\n",
       "    </tr>\n",
       "    <tr>\n",
       "      <th>2</th>\n",
       "      <td>3.270685</td>\n",
       "      <td>0.015863</td>\n",
       "      <td>0.020203</td>\n",
       "    </tr>\n",
       "    <tr>\n",
       "      <th>3</th>\n",
       "      <td>3.260428</td>\n",
       "      <td>0.026075</td>\n",
       "      <td>0.030459</td>\n",
       "    </tr>\n",
       "    <tr>\n",
       "      <th>4</th>\n",
       "      <td>3.250065</td>\n",
       "      <td>0.036392</td>\n",
       "      <td>0.040822</td>\n",
       "    </tr>\n",
       "  </tbody>\n",
       "</table>\n",
       "</div>"
      ],
      "text/plain": [
       "        lnV       lnP     lnPid\n",
       "0  3.290887 -0.004253  0.000000\n",
       "1  3.280837  0.005755  0.010050\n",
       "2  3.270685  0.015863  0.020203\n",
       "3  3.260428  0.026075  0.030459\n",
       "4  3.250065  0.036392  0.040822"
      ]
     },
     "execution_count": 35,
     "metadata": {},
     "output_type": "execute_result"
    }
   ],
   "source": [
    "df['lnV'] = np.log(df['Volumen (L)'])\n",
    "df['lnP'] = np.log(df['P (bar)'])\n",
    "df['lnPid'] = np.log(df['Pideal (bar)'])\n",
    "\n",
    "df[['lnV', 'lnP', 'lnPid']].head()"
   ]
  },
  {
   "cell_type": "code",
   "execution_count": 36,
   "metadata": {},
   "outputs": [
    {
     "data": {
      "image/png": "[encoded data removed]",
      "text/plain": [
       "<Figure size 648x576 with 1 Axes>"
      ]
     },
     "metadata": {},
     "output_type": "display_data"
    }
   ],
   "source": [
    "# de forma grafica\n",
    "plt.figure(figsize=(9,8))\n",
    "plt.plot(df['lnV'], df['lnP'], 'o', label='Peng-Robinson', lw=2, ls='-.')\n",
    "plt.plot(df['lnV'], df['lnPid'], label='Ideal', lw=3)\n",
    "plt.xlabel('ln(V)')\n",
    "plt.ylabel('ln(P)')\n",
    "plt.legend(loc='best')\n",
    "plt.show()"
   ]
  }
 ],
 "metadata": {
  "kernelspec": {
   "display_name": "Python 3",
   "language": "python",
   "name": "python3"
  },
  "language_info": {
   "codemirror_mode": {
    "name": "ipython",
    "version": 3
   },
   "file_extension": ".py",
   "mimetype": "text/x-python",
   "name": "python",
   "nbconvert_exporter": "python",
   "pygments_lexer": "ipython3",
   "version": "3.7.7"
  }
 },
 "nbformat": 4,
 "nbformat_minor": 2
}
