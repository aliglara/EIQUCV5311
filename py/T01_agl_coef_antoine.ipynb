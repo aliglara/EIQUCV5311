{
 "cells": [
  {
   "cell_type": "markdown",
   "metadata": {},
   "source": [
    "# Solución\n",
    "\n",
    "Ahora bien, se conoce que el logaritmo natural de la presión de saturación de un componente puro varía con el inverso de la temperatura absoluta.\n",
    "\n",
    "\\begin{equation}\n",
    "\\ln P^\\text{sat} = A - \\frac{B}{T+C}\n",
    "\\end{equation}\n",
    "\n",
    "Si se linealiza esta expresión:\n",
    "\n",
    "\\begin{equation}\n",
    "\\ln P = A + \\left(AC - B\\right)\\frac{1}{T} -  C \\:\\frac{\\ln P}{T}\n",
    "\\end{equation}"
   ]
  },
  {
   "cell_type": "code",
   "execution_count": null,
   "metadata": {},
   "outputs": [],
   "source": [
    "import numpy as np\n",
    "import pandas as pd\n",
    "import matplotlib.pyplot as plt\n",
    "from scipy.optimize import leastsq"
   ]
  },
  {
   "cell_type": "code",
   "execution_count": null,
   "metadata": {},
   "outputs": [],
   "source": [
    "Data_experimental = pd.read_excel('data_coef_antoine.xlsx', header=None, names=['T (K)', 'Psat (bar)'])"
   ]
  },
  {
   "cell_type": "code",
   "execution_count": null,
   "metadata": {},
   "outputs": [],
   "source": [
    "Data_experimental"
   ]
  },
  {
   "cell_type": "code",
   "execution_count": null,
   "metadata": {},
   "outputs": [],
   "source": [
    "Data = Data_experimental.values\n",
    "T = Data[:,0] \n",
    "P =  Data[:,1]\n",
    "x = 1/T\n",
    "y = np.log(P)"
   ]
  },
  {
   "cell_type": "code",
   "execution_count": null,
   "metadata": {},
   "outputs": [],
   "source": [
    "plt.clf()\n",
    "fig, ax = plt.subplots()\n",
    "_ = plt.plot(x, y, 'o')"
   ]
  },
  {
   "cell_type": "code",
   "execution_count": null,
   "metadata": {},
   "outputs": [],
   "source": [
    "beta = np.polyfit(x, y, 1)"
   ]
  },
  {
   "cell_type": "code",
   "execution_count": null,
   "metadata": {},
   "outputs": [],
   "source": [
    "fx = np.array([x.min(), x.max()])\n",
    "fy = beta[1] + beta[0] * fx\n",
    "\n",
    "plt.clf()\n",
    "_ = plt.plot(x, y, 'o')\n",
    "_ = plt.plot(fx, fy, '-', alpha=0.7)"
   ]
  },
  {
   "cell_type": "code",
   "execution_count": null,
   "metadata": {},
   "outputs": [],
   "source": [
    "B = np.log(Data[:,1]).reshape((-1,1))\n",
    "print(B)"
   ]
  },
  {
   "cell_type": "code",
   "execution_count": null,
   "metadata": {},
   "outputs": [],
   "source": [
    "solucion = np.linalg.solve(A, B)"
   ]
  },
  {
   "cell_type": "code",
   "execution_count": null,
   "metadata": {},
   "outputs": [],
   "source": [
    "solucion = np.linalg.solve(a,b)\n",
    "a = solucion[0]\n",
    "c = -solucion[2]\n",
    "b = a*c - solucion[1]\n",
    "\n",
    "print(\"Las constantes de la ecuacion de Antoine son: A = {:.2f}, B = {:.2f} y C = {:.2f}\".format(A, B, C))"
   ]
  },
  {
   "cell_type": "markdown",
   "metadata": {},
   "source": [
    "Ahora para determinar el calor de vaporizacion se relaciona la ecuacion de Antoine con la ecuación de Clausius-Clapeyron\n",
    "\n",
    "\\begin{align}\n",
    "\\left(\\frac{\\partial P^\\text{sat}}{\\partial T}\\right)_{\\Delta G =0 } & = \\frac{\\Delta H^\\text{vap}}{R\\,T^2} \\notag \\\\\n",
    "\\frac{B}{\\left( T + C \\right)^2} & = \\frac{\\Delta H^\\text{vap}}{R\\,T^2} \n",
    "\\end{align}"
   ]
  },
  {
   "cell_type": "code",
   "execution_count": null,
   "metadata": {},
   "outputs": [],
   "source": [
    "R = 8.31416\n",
    "Pfeed = 1.88e6\n",
    "calidad = .9\n",
    "PM = 58\n",
    "\n",
    "Tfeed, = fsolve(lambda x : np.log(Pfeed) - (A - B/(x + C)), 350)\n",
    "\n",
    "print(\"La temperatura de alimentacion es de {:.2f}K\".format(Tfeed))"
   ]
  },
  {
   "cell_type": "code",
   "execution_count": null,
   "metadata": {},
   "outputs": [],
   "source": [
    "DHvap, = fsolve(lambda x: B/(Tfeed + C)**2 - x/R/Tfeed**2, 20000)\n",
    "print(\"La carga calorica en el vaporizador es {:.2f} J/g\".format(DHvap * calidad / PM))"
   ]
  }
 ],
 "metadata": {
  "kernelspec": {
   "display_name": "Python 3",
   "language": "python",
   "name": "python3"
  },
  "language_info": {
   "codemirror_mode": {
    "name": "ipython",
    "version": 3
   },
   "file_extension": ".py",
   "mimetype": "text/x-python",
   "name": "python",
   "nbconvert_exporter": "python",
   "pygments_lexer": "ipython3",
   "version": "3.7.7"
  }
 },
 "nbformat": 4,
 "nbformat_minor": 2
}
