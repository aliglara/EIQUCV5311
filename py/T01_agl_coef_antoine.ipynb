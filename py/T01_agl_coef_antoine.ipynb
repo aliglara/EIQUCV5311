{
 "cells": [
  {
   "cell_type": "markdown",
   "metadata": {},
   "source": [
    "# Solución\n",
    "\n",
    "Ahora bien, se conoce que el logaritmo natural de la presión de saturación de un componente puro varía con el inverso de la temperatura absoluta.\n",
    "\n",
    "\\begin{equation}\n",
    "\\ln P^\\text{sat} = A - \\frac{B}{T+C}\n",
    "\\end{equation}\n",
    "\n",
    "Si se linealiza esta expresión:\n",
    "\n",
    "\\begin{equation}\n",
    "\\ln P = A + \\left(AC - B\\right)\\frac{1}{T} -  C \\:\\frac{\\ln P}{T}\n",
    "\\end{equation}"
   ]
  },
  {
   "cell_type": "code",
   "execution_count": 1,
   "metadata": {},
   "outputs": [],
   "source": [
    "import numpy as np\n",
    "import pandas as pd\n",
    "import matplotlib.pyplot as plt\n",
    "from scipy.optimize import leastsq"
   ]
  },
  {
   "cell_type": "code",
   "execution_count": 4,
   "metadata": {},
   "outputs": [],
   "source": [
    "Data_experimental = pd.read_excel('T01_agl_coef_antoine.xlsx', header=None, names=['T (K)', 'Psat (bar)'])"
   ]
  },
  {
   "cell_type": "code",
   "execution_count": 5,
   "metadata": {},
   "outputs": [
    {
     "data": {
      "text/plain": "   T (K)  Psat (bar)\n0    380      0.1248\n1    395      0.2151\n2    410      0.3528\n3    425      0.5543\n4    440      0.8389",
      "text/html": "<div>\n<style scoped>\n    .dataframe tbody tr th:only-of-type {\n        vertical-align: middle;\n    }\n\n    .dataframe tbody tr th {\n        vertical-align: top;\n    }\n\n    .dataframe thead th {\n        text-align: right;\n    }\n</style>\n<table border=\"1\" class=\"dataframe\">\n  <thead>\n    <tr style=\"text-align: right;\">\n      <th></th>\n      <th>T (K)</th>\n      <th>Psat (bar)</th>\n    </tr>\n  </thead>\n  <tbody>\n    <tr>\n      <th>0</th>\n      <td>380</td>\n      <td>0.1248</td>\n    </tr>\n    <tr>\n      <th>1</th>\n      <td>395</td>\n      <td>0.2151</td>\n    </tr>\n    <tr>\n      <th>2</th>\n      <td>410</td>\n      <td>0.3528</td>\n    </tr>\n    <tr>\n      <th>3</th>\n      <td>425</td>\n      <td>0.5543</td>\n    </tr>\n    <tr>\n      <th>4</th>\n      <td>440</td>\n      <td>0.8389</td>\n    </tr>\n  </tbody>\n</table>\n</div>"
     },
     "execution_count": 5,
     "metadata": {},
     "output_type": "execute_result"
    }
   ],
   "source": [
    "Data_experimental"
   ]
  },
  {
   "cell_type": "code",
   "execution_count": 6,
   "metadata": {},
   "outputs": [],
   "source": [
    "Data = Data_experimental.values\n",
    "T = Data[:,0] \n",
    "P =  Data[:,1]\n",
    "x = 1/T\n",
    "y = np.log(P)"
   ]
  },
  {
   "cell_type": "code",
   "execution_count": 7,
   "metadata": {},
   "outputs": [
    {
     "data": {
      "text/plain": "[<matplotlib.lines.Line2D at 0x7fedaa53f850>]"
     },
     "execution_count": 7,
     "metadata": {},
     "output_type": "execute_result"
    },
    {
     "data": {
      "text/plain": "<Figure size 432x288 with 0 Axes>"
     },
     "metadata": {},
     "output_type": "display_data"
    },
    {
     "data": {
      "text/plain": "<Figure size 432x288 with 1 Axes>",
      "image/png": "[encoded data removed]"
     },
     "metadata": {
      "needs_background": "light"
     },
     "output_type": "display_data"
    }
   ],
   "source": [
    "plt.clf()\n",
    "fig, ax = plt.subplots()\n",
    "ax.plot(x, y, 'o')"
   ]
  },
  {
   "cell_type": "code",
   "execution_count": null,
   "metadata": {
    "pycharm": {
     "name": "#%%\n"
    }
   },
   "outputs": [],
   "source": []
  }
 ],
 "metadata": {
  "kernelspec": {
   "display_name": "Python 3",
   "language": "python",
   "name": "python3"
  },
  "language_info": {
   "codemirror_mode": {
    "name": "ipython",
    "version": 3
   },
   "file_extension": ".py",
   "mimetype": "text/x-python",
   "name": "python",
   "nbconvert_exporter": "python",
   "pygments_lexer": "ipython3",
   "version": "3.7.7"
  }
 },
 "nbformat": 4,
 "nbformat_minor": 2
}